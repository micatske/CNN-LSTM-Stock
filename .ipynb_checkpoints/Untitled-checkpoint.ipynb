{
 "cells": [
  {
   "cell_type": "code",
   "execution_count": 10,
   "id": "4d2558c9",
   "metadata": {},
   "outputs": [],
   "source": [
    "import numpy as np\n",
    "import pandas as pd\n",
    "import os\n",
    "from datetime import datetime\n",
    "import math\n",
    "import seaborn as sns\n",
    "import datetime as dt\n",
    "from datetime import datetime    \n",
    "sns.set_style(\"whitegrid\")\n",
    "from pandas.plotting import autocorrelation_plot\n",
    "import matplotlib.pyplot as plt\n",
    "#matplotlib inline\n",
    "plt.style.use(\"ggplot\")\n",
    "\n",
    "dir=\"data/\"\n",
    "#df_stock=pd.read_csv(dir+\"GOOG.csv\")  # read the data\n",
    "df_stock=pd.read_csv(dir+\"TSLA.csv\")  # read the data\n",
    "df_index=pd.read_csv(dir+\"SP500.csv\")\n",
    "#df.head()  # print the summary of the data\n",
    "df_index['Close']=df_index['Close'].apply(lambda x: x.replace(',','')).astype(float)"
   ]
  },
  {
   "cell_type": "code",
   "execution_count": 11,
   "id": "535b7b32",
   "metadata": {},
   "outputs": [
    {
     "data": {
      "text/plain": [
       "0      3,954.53\n",
       "1      3,965.21\n",
       "2      4,017.42\n",
       "3      4,057.66\n",
       "4      4,147.59\n",
       "         ...   \n",
       "248    4,513.00\n",
       "249    4,521.30\n",
       "250    4,524.66\n",
       "251    4,522.02\n",
       "252    4,515.80\n",
       "Name: Low, Length: 253, dtype: object"
      ]
     },
     "execution_count": 11,
     "metadata": {},
     "output_type": "execute_result"
    }
   ],
   "source": [
    "df_index.iloc[:,3]"
   ]
  },
  {
   "cell_type": "code",
   "execution_count": 12,
   "id": "5a31275f",
   "metadata": {},
   "outputs": [
    {
     "data": {
      "text/plain": [
       "0        23.579332\n",
       "1        23.059334\n",
       "2        22.770666\n",
       "3        22.896667\n",
       "4        22.820000\n",
       "           ...    \n",
       "1252    296.500000\n",
       "1253    291.600006\n",
       "1254    287.470001\n",
       "1255    280.700012\n",
       "1256    272.649994\n",
       "Name: Low, Length: 1257, dtype: float64"
      ]
     },
     "execution_count": 12,
     "metadata": {},
     "output_type": "execute_result"
    }
   ],
   "source": [
    "df_stock.iloc[:,3]"
   ]
  },
  {
   "cell_type": "code",
   "execution_count": 13,
   "id": "82440564",
   "metadata": {},
   "outputs": [
    {
     "data": {
      "text/html": [
       "<div>\n",
       "<style scoped>\n",
       "    .dataframe tbody tr th:only-of-type {\n",
       "        vertical-align: middle;\n",
       "    }\n",
       "\n",
       "    .dataframe tbody tr th {\n",
       "        vertical-align: top;\n",
       "    }\n",
       "\n",
       "    .dataframe thead th {\n",
       "        text-align: right;\n",
       "    }\n",
       "</style>\n",
       "<table border=\"1\" class=\"dataframe\">\n",
       "  <thead>\n",
       "    <tr style=\"text-align: right;\">\n",
       "      <th></th>\n",
       "      <th>Date</th>\n",
       "      <th>Open</th>\n",
       "      <th>High</th>\n",
       "      <th>Low</th>\n",
       "      <th>Close</th>\n",
       "      <th>Adj Close</th>\n",
       "      <th>Volume</th>\n",
       "    </tr>\n",
       "  </thead>\n",
       "  <tbody>\n",
       "    <tr>\n",
       "      <th>0</th>\n",
       "      <td>2017-09-01</td>\n",
       "      <td>23.741333</td>\n",
       "      <td>23.839333</td>\n",
       "      <td>23.579332</td>\n",
       "      <td>23.693333</td>\n",
       "      <td>23.693333</td>\n",
       "      <td>45742500</td>\n",
       "    </tr>\n",
       "    <tr>\n",
       "      <th>1</th>\n",
       "      <td>2017-09-05</td>\n",
       "      <td>23.586666</td>\n",
       "      <td>23.699333</td>\n",
       "      <td>23.059334</td>\n",
       "      <td>23.306000</td>\n",
       "      <td>23.306000</td>\n",
       "      <td>57526500</td>\n",
       "    </tr>\n",
       "    <tr>\n",
       "      <th>2</th>\n",
       "      <td>2017-09-06</td>\n",
       "      <td>23.299999</td>\n",
       "      <td>23.398666</td>\n",
       "      <td>22.770666</td>\n",
       "      <td>22.968666</td>\n",
       "      <td>22.968666</td>\n",
       "      <td>61371000</td>\n",
       "    </tr>\n",
       "    <tr>\n",
       "      <th>3</th>\n",
       "      <td>2017-09-07</td>\n",
       "      <td>23.065332</td>\n",
       "      <td>23.498667</td>\n",
       "      <td>22.896667</td>\n",
       "      <td>23.374001</td>\n",
       "      <td>23.374001</td>\n",
       "      <td>63588000</td>\n",
       "    </tr>\n",
       "    <tr>\n",
       "      <th>4</th>\n",
       "      <td>2017-09-08</td>\n",
       "      <td>23.266001</td>\n",
       "      <td>23.318666</td>\n",
       "      <td>22.820000</td>\n",
       "      <td>22.893333</td>\n",
       "      <td>22.893333</td>\n",
       "      <td>48952500</td>\n",
       "    </tr>\n",
       "  </tbody>\n",
       "</table>\n",
       "</div>"
      ],
      "text/plain": [
       "         Date       Open       High        Low      Close  Adj Close    Volume\n",
       "0  2017-09-01  23.741333  23.839333  23.579332  23.693333  23.693333  45742500\n",
       "1  2017-09-05  23.586666  23.699333  23.059334  23.306000  23.306000  57526500\n",
       "2  2017-09-06  23.299999  23.398666  22.770666  22.968666  22.968666  61371000\n",
       "3  2017-09-07  23.065332  23.498667  22.896667  23.374001  23.374001  63588000\n",
       "4  2017-09-08  23.266001  23.318666  22.820000  22.893333  22.893333  48952500"
      ]
     },
     "execution_count": 13,
     "metadata": {},
     "output_type": "execute_result"
    }
   ],
   "source": [
    "df_stock.head()"
   ]
  },
  {
   "cell_type": "code",
   "execution_count": 14,
   "id": "9946a7f6",
   "metadata": {},
   "outputs": [
    {
     "data": {
      "text/plain": [
       "0        23.693333\n",
       "1        23.306000\n",
       "2        22.968666\n",
       "3        23.374001\n",
       "4        22.893333\n",
       "           ...    \n",
       "1252    297.096680\n",
       "1253    296.070007\n",
       "1254    288.089996\n",
       "1255    284.820007\n",
       "1256    277.700012\n",
       "Name: Close, Length: 1257, dtype: float64"
      ]
     },
     "execution_count": 14,
     "metadata": {},
     "output_type": "execute_result"
    }
   ],
   "source": [
    "df_stock.iloc[735,4]"
   ]
  },
  {
   "cell_type": "code",
   "execution_count": 8,
   "id": "6f9ee61b",
   "metadata": {},
   "outputs": [
    {
     "data": {
      "text/html": [
       "<div>\n",
       "<style scoped>\n",
       "    .dataframe tbody tr th:only-of-type {\n",
       "        vertical-align: middle;\n",
       "    }\n",
       "\n",
       "    .dataframe tbody tr th {\n",
       "        vertical-align: top;\n",
       "    }\n",
       "\n",
       "    .dataframe thead th {\n",
       "        text-align: right;\n",
       "    }\n",
       "</style>\n",
       "<table border=\"1\" class=\"dataframe\">\n",
       "  <thead>\n",
       "    <tr style=\"text-align: right;\">\n",
       "      <th></th>\n",
       "      <th>Date</th>\n",
       "      <th>Open</th>\n",
       "      <th>High</th>\n",
       "      <th>Low</th>\n",
       "      <th>Close</th>\n",
       "    </tr>\n",
       "  </thead>\n",
       "  <tbody>\n",
       "    <tr>\n",
       "      <th>0</th>\n",
       "      <td>08/31/2022</td>\n",
       "      <td>4,000.67</td>\n",
       "      <td>4,015.37</td>\n",
       "      <td>3,954.53</td>\n",
       "      <td>3955.00</td>\n",
       "    </tr>\n",
       "    <tr>\n",
       "      <th>1</th>\n",
       "      <td>08/30/2022</td>\n",
       "      <td>4,041.25</td>\n",
       "      <td>4,044.98</td>\n",
       "      <td>3,965.21</td>\n",
       "      <td>3986.16</td>\n",
       "    </tr>\n",
       "    <tr>\n",
       "      <th>2</th>\n",
       "      <td>08/29/2022</td>\n",
       "      <td>4,034.58</td>\n",
       "      <td>4,062.99</td>\n",
       "      <td>4,017.42</td>\n",
       "      <td>4030.61</td>\n",
       "    </tr>\n",
       "    <tr>\n",
       "      <th>3</th>\n",
       "      <td>08/26/2022</td>\n",
       "      <td>4,198.74</td>\n",
       "      <td>4,203.04</td>\n",
       "      <td>4,057.66</td>\n",
       "      <td>4057.66</td>\n",
       "    </tr>\n",
       "    <tr>\n",
       "      <th>4</th>\n",
       "      <td>08/25/2022</td>\n",
       "      <td>4,153.26</td>\n",
       "      <td>4,200.54</td>\n",
       "      <td>4,147.59</td>\n",
       "      <td>4199.12</td>\n",
       "    </tr>\n",
       "  </tbody>\n",
       "</table>\n",
       "</div>"
      ],
      "text/plain": [
       "         Date      Open      High       Low    Close\n",
       "0  08/31/2022  4,000.67  4,015.37  3,954.53  3955.00\n",
       "1  08/30/2022  4,041.25  4,044.98  3,965.21  3986.16\n",
       "2  08/29/2022  4,034.58  4,062.99  4,017.42  4030.61\n",
       "3  08/26/2022  4,198.74  4,203.04  4,057.66  4057.66\n",
       "4  08/25/2022  4,153.26  4,200.54  4,147.59  4199.12"
      ]
     },
     "execution_count": 8,
     "metadata": {},
     "output_type": "execute_result"
    }
   ],
   "source": [
    "df_index.head()"
   ]
  },
  {
   "cell_type": "code",
   "execution_count": 9,
   "id": "e8563a28",
   "metadata": {},
   "outputs": [
    {
     "data": {
      "text/plain": [
       "0      3955.00\n",
       "1      3986.16\n",
       "2      4030.61\n",
       "3      4057.66\n",
       "4      4199.12\n",
       "        ...   \n",
       "248    4520.03\n",
       "249    4535.43\n",
       "250    4536.95\n",
       "251    4524.09\n",
       "252    4522.68\n",
       "Name: Close, Length: 253, dtype: float64"
      ]
     },
     "execution_count": 9,
     "metadata": {},
     "output_type": "execute_result"
    }
   ],
   "source": [
    "df_index.iloc[:,4]"
   ]
  },
  {
   "cell_type": "code",
   "execution_count": null,
   "id": "532f3eac",
   "metadata": {},
   "outputs": [],
   "source": [
    "df"
   ]
  }
 ],
 "metadata": {
  "kernelspec": {
   "display_name": "Python [conda env:tf] *",
   "language": "python",
   "name": "conda-env-tf-py"
  },
  "language_info": {
   "codemirror_mode": {
    "name": "ipython",
    "version": 3
   },
   "file_extension": ".py",
   "mimetype": "text/x-python",
   "name": "python",
   "nbconvert_exporter": "python",
   "pygments_lexer": "ipython3",
   "version": "3.9.13"
  }
 },
 "nbformat": 4,
 "nbformat_minor": 5
}
