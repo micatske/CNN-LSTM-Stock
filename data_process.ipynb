{
 "cells": [
  {
   "cell_type": "code",
   "execution_count": 1,
   "metadata": {},
   "outputs": [],
   "source": [
    "import numpy as np\n",
    "import pandas as pd\n",
    "import os\n",
    "from datetime import datetime"
   ]
  },
  {
   "cell_type": "code",
   "execution_count": 2,
   "metadata": {},
   "outputs": [],
   "source": [
    "dir=\"data/\""
   ]
  },
  {
   "cell_type": "code",
   "execution_count": 3,
   "metadata": {},
   "outputs": [
    {
     "data": {
      "text/html": [
       "<div>\n",
       "<style scoped>\n",
       "    .dataframe tbody tr th:only-of-type {\n",
       "        vertical-align: middle;\n",
       "    }\n",
       "\n",
       "    .dataframe tbody tr th {\n",
       "        vertical-align: top;\n",
       "    }\n",
       "\n",
       "    .dataframe thead th {\n",
       "        text-align: right;\n",
       "    }\n",
       "</style>\n",
       "<table border=\"1\" class=\"dataframe\">\n",
       "  <thead>\n",
       "    <tr style=\"text-align: right;\">\n",
       "      <th></th>\n",
       "      <th>Date</th>\n",
       "      <th>Open</th>\n",
       "      <th>High</th>\n",
       "      <th>Low</th>\n",
       "      <th>Close</th>\n",
       "      <th>Adj Close</th>\n",
       "      <th>Volume</th>\n",
       "    </tr>\n",
       "  </thead>\n",
       "  <tbody>\n",
       "    <tr>\n",
       "      <th>0</th>\n",
       "      <td>2017-09-01</td>\n",
       "      <td>47.056499</td>\n",
       "      <td>47.124001</td>\n",
       "      <td>46.757500</td>\n",
       "      <td>46.867001</td>\n",
       "      <td>46.867001</td>\n",
       "      <td>18948000</td>\n",
       "    </tr>\n",
       "    <tr>\n",
       "      <th>1</th>\n",
       "      <td>2017-09-05</td>\n",
       "      <td>46.653999</td>\n",
       "      <td>46.849998</td>\n",
       "      <td>46.098000</td>\n",
       "      <td>46.422501</td>\n",
       "      <td>46.422501</td>\n",
       "      <td>26528000</td>\n",
       "    </tr>\n",
       "    <tr>\n",
       "      <th>2</th>\n",
       "      <td>2017-09-06</td>\n",
       "      <td>46.507500</td>\n",
       "      <td>46.545750</td>\n",
       "      <td>45.963501</td>\n",
       "      <td>46.390499</td>\n",
       "      <td>46.390499</td>\n",
       "      <td>30554000</td>\n",
       "    </tr>\n",
       "    <tr>\n",
       "      <th>3</th>\n",
       "      <td>2017-09-07</td>\n",
       "      <td>46.586498</td>\n",
       "      <td>46.820499</td>\n",
       "      <td>46.181000</td>\n",
       "      <td>46.797501</td>\n",
       "      <td>46.797501</td>\n",
       "      <td>24254000</td>\n",
       "    </tr>\n",
       "    <tr>\n",
       "      <th>4</th>\n",
       "      <td>2017-09-08</td>\n",
       "      <td>46.824501</td>\n",
       "      <td>46.849499</td>\n",
       "      <td>46.243999</td>\n",
       "      <td>46.325001</td>\n",
       "      <td>46.325001</td>\n",
       "      <td>20230000</td>\n",
       "    </tr>\n",
       "  </tbody>\n",
       "</table>\n",
       "</div>"
      ],
      "text/plain": [
       "         Date       Open       High        Low      Close  Adj Close    Volume\n",
       "0  2017-09-01  47.056499  47.124001  46.757500  46.867001  46.867001  18948000\n",
       "1  2017-09-05  46.653999  46.849998  46.098000  46.422501  46.422501  26528000\n",
       "2  2017-09-06  46.507500  46.545750  45.963501  46.390499  46.390499  30554000\n",
       "3  2017-09-07  46.586498  46.820499  46.181000  46.797501  46.797501  24254000\n",
       "4  2017-09-08  46.824501  46.849499  46.243999  46.325001  46.325001  20230000"
      ]
     },
     "execution_count": 3,
     "metadata": {},
     "output_type": "execute_result"
    }
   ],
   "source": [
    "df=pd.read_csv(dir+\"GOOG.csv\")  # read the data\n",
    "df.head()  # print the summary of the data"
   ]
  }
 ],
 "metadata": {
  "kernelspec": {
   "display_name": "Python 3.8.12 64-bit ('mlc': conda)",
   "language": "python",
   "name": "python3"
  },
  "language_info": {
   "codemirror_mode": {
    "name": "ipython",
    "version": 3
   },
   "file_extension": ".py",
   "mimetype": "text/x-python",
   "name": "python",
   "nbconvert_exporter": "python",
   "pygments_lexer": "ipython3",
   "version": "3.8.12"
  },
  "orig_nbformat": 4,
  "vscode": {
   "interpreter": {
    "hash": "2214f65b5fe5a3d49ad6320ac081a4b613ae7c3ad7d5b8ce19be55e60716ab64"
   }
  }
 },
 "nbformat": 4,
 "nbformat_minor": 2
}
